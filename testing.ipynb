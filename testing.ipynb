{
 "cells": [
  {
   "cell_type": "code",
   "execution_count": 1,
   "metadata": {},
   "outputs": [
    {
     "ename": "FileNotFoundError",
     "evalue": "[Errno 2] No such file or directory: 'Histopathology/Dataset/Renamed Data/T 26A-22 ductal CA/001-40x.tif'",
     "output_type": "error",
     "traceback": [
      "\u001b[1;31m---------------------------------------------------------------------------\u001b[0m",
      "\u001b[1;31mFileNotFoundError\u001b[0m                         Traceback (most recent call last)",
      "\u001b[1;32m~\\AppData\\Local\\Temp\\ipykernel_13888\\732827279.py\u001b[0m in \u001b[0;36m<module>\u001b[1;34m\u001b[0m\n\u001b[0;32m     15\u001b[0m \u001b[1;33m\u001b[0m\u001b[0m\n\u001b[0;32m     16\u001b[0m \u001b[1;33m\u001b[0m\u001b[0m\n\u001b[1;32m---> 17\u001b[1;33m \u001b[0mimage1\u001b[0m \u001b[1;33m=\u001b[0m \u001b[0mtransformation\u001b[0m\u001b[1;33m(\u001b[0m\u001b[1;34m\"Histopathology/Dataset/Renamed Data/T 26A-22 ductal CA/001-40x.tif\"\u001b[0m\u001b[1;33m,\u001b[0m \u001b[1;36m1024\u001b[0m\u001b[1;33m)\u001b[0m\u001b[1;33m\u001b[0m\u001b[1;33m\u001b[0m\u001b[0m\n\u001b[0m\u001b[0;32m     18\u001b[0m \u001b[0mimage2\u001b[0m \u001b[1;33m=\u001b[0m \u001b[0mtransformation\u001b[0m\u001b[1;33m(\u001b[0m\u001b[1;34m\"Histopathology/Dataset/Renamed Data/T 26A-22 ductal CA/001-100x.tif\"\u001b[0m\u001b[1;33m,\u001b[0m \u001b[1;36m2560\u001b[0m\u001b[1;33m)\u001b[0m\u001b[1;33m\u001b[0m\u001b[1;33m\u001b[0m\u001b[0m\n\u001b[0;32m     19\u001b[0m \u001b[1;33m\u001b[0m\u001b[0m\n",
      "\u001b[1;32m~\\AppData\\Local\\Temp\\ipykernel_13888\\732827279.py\u001b[0m in \u001b[0;36mtransformation\u001b[1;34m(image_path, size)\u001b[0m\n\u001b[0;32m      6\u001b[0m \u001b[1;33m\u001b[0m\u001b[0m\n\u001b[0;32m      7\u001b[0m \u001b[1;32mdef\u001b[0m \u001b[0mtransformation\u001b[0m\u001b[1;33m(\u001b[0m\u001b[0mimage_path\u001b[0m\u001b[1;33m,\u001b[0m \u001b[0msize\u001b[0m\u001b[1;33m)\u001b[0m\u001b[1;33m:\u001b[0m\u001b[1;33m\u001b[0m\u001b[1;33m\u001b[0m\u001b[0m\n\u001b[1;32m----> 8\u001b[1;33m     \u001b[0mimg\u001b[0m \u001b[1;33m=\u001b[0m \u001b[0mImage\u001b[0m\u001b[1;33m.\u001b[0m\u001b[0mopen\u001b[0m\u001b[1;33m(\u001b[0m\u001b[0mimage_path\u001b[0m\u001b[1;33m)\u001b[0m\u001b[1;33m\u001b[0m\u001b[1;33m\u001b[0m\u001b[0m\n\u001b[0m\u001b[0;32m      9\u001b[0m     transforms = torchvision.transforms.Compose([\n\u001b[0;32m     10\u001b[0m         \u001b[0mtorchvision\u001b[0m\u001b[1;33m.\u001b[0m\u001b[0mtransforms\u001b[0m\u001b[1;33m.\u001b[0m\u001b[0mResize\u001b[0m\u001b[1;33m(\u001b[0m\u001b[1;33m(\u001b[0m\u001b[0msize\u001b[0m\u001b[1;33m,\u001b[0m\u001b[0msize\u001b[0m\u001b[1;33m)\u001b[0m\u001b[1;33m)\u001b[0m\u001b[1;33m,\u001b[0m\u001b[1;33m\u001b[0m\u001b[1;33m\u001b[0m\u001b[0m\n",
      "\u001b[1;32md:\\Anaconda\\lib\\site-packages\\PIL\\Image.py\u001b[0m in \u001b[0;36mopen\u001b[1;34m(fp, mode, formats)\u001b[0m\n\u001b[0;32m   3090\u001b[0m \u001b[1;33m\u001b[0m\u001b[0m\n\u001b[0;32m   3091\u001b[0m     \u001b[1;32mif\u001b[0m \u001b[0mfilename\u001b[0m\u001b[1;33m:\u001b[0m\u001b[1;33m\u001b[0m\u001b[1;33m\u001b[0m\u001b[0m\n\u001b[1;32m-> 3092\u001b[1;33m         \u001b[0mfp\u001b[0m \u001b[1;33m=\u001b[0m \u001b[0mbuiltins\u001b[0m\u001b[1;33m.\u001b[0m\u001b[0mopen\u001b[0m\u001b[1;33m(\u001b[0m\u001b[0mfilename\u001b[0m\u001b[1;33m,\u001b[0m \u001b[1;34m\"rb\"\u001b[0m\u001b[1;33m)\u001b[0m\u001b[1;33m\u001b[0m\u001b[1;33m\u001b[0m\u001b[0m\n\u001b[0m\u001b[0;32m   3093\u001b[0m         \u001b[0mexclusive_fp\u001b[0m \u001b[1;33m=\u001b[0m \u001b[1;32mTrue\u001b[0m\u001b[1;33m\u001b[0m\u001b[1;33m\u001b[0m\u001b[0m\n\u001b[0;32m   3094\u001b[0m \u001b[1;33m\u001b[0m\u001b[0m\n",
      "\u001b[1;31mFileNotFoundError\u001b[0m: [Errno 2] No such file or directory: 'Histopathology/Dataset/Renamed Data/T 26A-22 ductal CA/001-40x.tif'"
     ]
    }
   ],
   "source": [
    "import torch\n",
    "import torch.nn.functional as F\n",
    "from PIL import Image\n",
    "import torchvision\n",
    "import matplotlib.pyplot as plt\n",
    "\n",
    "def transformation(image_path, size):\n",
    "    img = Image.open(image_path)\n",
    "    transforms = torchvision.transforms.Compose([\n",
    "        torchvision.transforms.Resize((size,size)),\n",
    "        torchvision.transforms.ToTensor(),\n",
    "    ])\n",
    "    img = transforms(img)\n",
    "    return img\n",
    "\n",
    "\n",
    "image1 = transformation(\"Histopathology\\Dataset\\Renamed Data\\T 26A-22 ductal CA\\\\001-40x.tif\", 1024)\n",
    "image2 = transformation(\"Histopathology\\Dataset\\Renamed Data\\T 26A-22 ductal CA\\\\001-100x.tif\", 2560)\n",
    "\n",
    "image_size=2560\n",
    "patch_size=1024\n",
    "min_abs_value = float('inf')\n",
    "min_abs_region = None\n",
    "\n",
    "# Iterate over the image using sliding windows\n",
    "for i in range(0, image_size - patch_size + 1, 10):\n",
    "    for j in range(0, image_size - patch_size + 1, 10):\n",
    "        # Extract the region from the image\n",
    "        region = image2[:, i:i+patch_size, j:j+patch_size]\n",
    "        # Compute the absolute difference between the region and the first image\n",
    "        #print(image1.size())\n",
    "        abs_diff = torch.abs(region - image1)\n",
    "\n",
    "        # Calculate the sum of absolute differences\n",
    "        sum_abs_diff = torch.mean(torch.sum(abs_diff))\n",
    "        #print(torch.mean(sum_abs_diff))\n",
    "        # Check if the current region has a smaller absolute difference\n",
    "        if sum_abs_diff < min_abs_value:\n",
    "            min_abs_value = sum_abs_diff\n",
    "            min_abs_region = region\n",
    "            min_abs_coordinate=(i,j)\n",
    "            \n",
    "    print(sum_abs_diff)\n",
    "    print(min_abs_coordinate)\n",
    "    crop_region = image2[:, min_abs_coordinate[0]:min_abs_coordinate[0]+patch_size,\n",
    "             min_abs_coordinate[1]:min_abs_coordinate[1]+patch_size]\n",
    "\n"
   ]
  },
  {
   "cell_type": "code",
   "execution_count": null,
   "metadata": {},
   "outputs": [],
   "source": [
    "# Convert the cropped region tensor to numpy array for visualization\n",
    "crop_region_np = crop_region.numpy()\n",
    "\n",
    "# Show the cropped region\n",
    "plt.imshow(crop_region_np.transpose(1, 2, 0))\n",
    "plt.axis('off')\n",
    "plt.show()\n",
    "# Print the minimum absolute value and the corresponding region\n",
    "print(\"Minimum Absolute Value:\", min_abs_value)\n",
    "print(\"Region with Minimum Absolute Value:\")\n",
    "#print(min_abs_region)\n",
    "print(min_abs_coordinate)"
   ]
  }
 ],
 "metadata": {
  "kernelspec": {
   "display_name": "base",
   "language": "python",
   "name": "python3"
  },
  "language_info": {
   "codemirror_mode": {
    "name": "ipython",
    "version": 3
   },
   "file_extension": ".py",
   "mimetype": "text/x-python",
   "name": "python",
   "nbconvert_exporter": "python",
   "pygments_lexer": "ipython3",
   "version": "3.9.13"
  },
  "orig_nbformat": 4
 },
 "nbformat": 4,
 "nbformat_minor": 2
}
